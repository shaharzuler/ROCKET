{
 "cells": [
  {
   "cell_type": "code",
   "execution_count": 24,
   "metadata": {},
   "outputs": [],
   "source": [
    "import os\n",
    "import random\n",
    "import numpy as np\n",
    "import pandas as pd\n",
    "import matplotlib.pyplot as plt"
   ]
  },
  {
   "cell_type": "code",
   "execution_count": 4,
   "metadata": {},
   "outputs": [],
   "source": [
    "data_path = os.path.join(\"data\", \"FordA_TEST.tsv\")"
   ]
  },
  {
   "cell_type": "code",
   "execution_count": 14,
   "metadata": {},
   "outputs": [],
   "source": [
    "col_names = [f\"x_{i}\" for i in range(500)]\n",
    "col_names.insert(0, \"label\")\n",
    "df = pd.read_csv(data_path, sep=\"\\t\", names=col_names)"
   ]
  },
  {
   "cell_type": "code",
   "execution_count": 15,
   "metadata": {},
   "outputs": [
    {
     "data": {
      "text/html": [
       "<div>\n",
       "<style scoped>\n",
       "    .dataframe tbody tr th:only-of-type {\n",
       "        vertical-align: middle;\n",
       "    }\n",
       "\n",
       "    .dataframe tbody tr th {\n",
       "        vertical-align: top;\n",
       "    }\n",
       "\n",
       "    .dataframe thead th {\n",
       "        text-align: right;\n",
       "    }\n",
       "</style>\n",
       "<table border=\"1\" class=\"dataframe\">\n",
       "  <thead>\n",
       "    <tr style=\"text-align: right;\">\n",
       "      <th></th>\n",
       "      <th>label</th>\n",
       "      <th>x_0</th>\n",
       "      <th>x_1</th>\n",
       "      <th>x_2</th>\n",
       "      <th>x_3</th>\n",
       "      <th>x_4</th>\n",
       "      <th>x_5</th>\n",
       "      <th>x_6</th>\n",
       "      <th>x_7</th>\n",
       "      <th>x_8</th>\n",
       "      <th>...</th>\n",
       "      <th>x_490</th>\n",
       "      <th>x_491</th>\n",
       "      <th>x_492</th>\n",
       "      <th>x_493</th>\n",
       "      <th>x_494</th>\n",
       "      <th>x_495</th>\n",
       "      <th>x_496</th>\n",
       "      <th>x_497</th>\n",
       "      <th>x_498</th>\n",
       "      <th>x_499</th>\n",
       "    </tr>\n",
       "  </thead>\n",
       "  <tbody>\n",
       "    <tr>\n",
       "      <th>511</th>\n",
       "      <td>-1</td>\n",
       "      <td>0.439034</td>\n",
       "      <td>0.823023</td>\n",
       "      <td>1.119467</td>\n",
       "      <td>1.258154</td>\n",
       "      <td>1.214814</td>\n",
       "      <td>1.058791</td>\n",
       "      <td>0.793552</td>\n",
       "      <td>0.549117</td>\n",
       "      <td>0.368824</td>\n",
       "      <td>...</td>\n",
       "      <td>-0.430360</td>\n",
       "      <td>0.003470</td>\n",
       "      <td>0.530914</td>\n",
       "      <td>1.154138</td>\n",
       "      <td>1.752226</td>\n",
       "      <td>2.211626</td>\n",
       "      <td>2.462997</td>\n",
       "      <td>2.436993</td>\n",
       "      <td>2.107611</td>\n",
       "      <td>1.570199</td>\n",
       "    </tr>\n",
       "    <tr>\n",
       "      <th>275</th>\n",
       "      <td>-1</td>\n",
       "      <td>0.112156</td>\n",
       "      <td>0.390118</td>\n",
       "      <td>0.608617</td>\n",
       "      <td>0.747520</td>\n",
       "      <td>0.800584</td>\n",
       "      <td>0.781856</td>\n",
       "      <td>0.706942</td>\n",
       "      <td>0.605496</td>\n",
       "      <td>0.486882</td>\n",
       "      <td>...</td>\n",
       "      <td>0.044109</td>\n",
       "      <td>-0.078095</td>\n",
       "      <td>-0.206073</td>\n",
       "      <td>-0.351219</td>\n",
       "      <td>-0.515093</td>\n",
       "      <td>-0.691453</td>\n",
       "      <td>-0.839720</td>\n",
       "      <td>-0.919316</td>\n",
       "      <td>-0.892784</td>\n",
       "      <td>-0.753881</td>\n",
       "    </tr>\n",
       "    <tr>\n",
       "      <th>1294</th>\n",
       "      <td>1</td>\n",
       "      <td>1.021161</td>\n",
       "      <td>1.360950</td>\n",
       "      <td>1.602456</td>\n",
       "      <td>1.729890</td>\n",
       "      <td>1.740837</td>\n",
       "      <td>1.641004</td>\n",
       "      <td>1.452173</td>\n",
       "      <td>1.189394</td>\n",
       "      <td>0.868109</td>\n",
       "      <td>...</td>\n",
       "      <td>0.113534</td>\n",
       "      <td>0.455924</td>\n",
       "      <td>0.807531</td>\n",
       "      <td>1.127531</td>\n",
       "      <td>1.383385</td>\n",
       "      <td>1.553615</td>\n",
       "      <td>1.619298</td>\n",
       "      <td>1.578237</td>\n",
       "      <td>1.424259</td>\n",
       "      <td>1.155361</td>\n",
       "    </tr>\n",
       "    <tr>\n",
       "      <th>443</th>\n",
       "      <td>1</td>\n",
       "      <td>0.849752</td>\n",
       "      <td>1.251072</td>\n",
       "      <td>1.572332</td>\n",
       "      <td>1.750827</td>\n",
       "      <td>1.758103</td>\n",
       "      <td>1.583214</td>\n",
       "      <td>1.231823</td>\n",
       "      <td>0.763440</td>\n",
       "      <td>0.247638</td>\n",
       "      <td>...</td>\n",
       "      <td>-0.378216</td>\n",
       "      <td>-0.006303</td>\n",
       "      <td>0.371912</td>\n",
       "      <td>0.712284</td>\n",
       "      <td>0.971246</td>\n",
       "      <td>1.122225</td>\n",
       "      <td>1.173250</td>\n",
       "      <td>1.154491</td>\n",
       "      <td>1.084825</td>\n",
       "      <td>0.973556</td>\n",
       "    </tr>\n",
       "    <tr>\n",
       "      <th>328</th>\n",
       "      <td>-1</td>\n",
       "      <td>0.257445</td>\n",
       "      <td>0.355907</td>\n",
       "      <td>0.357916</td>\n",
       "      <td>0.247398</td>\n",
       "      <td>0.058512</td>\n",
       "      <td>-0.166141</td>\n",
       "      <td>-0.369495</td>\n",
       "      <td>-0.510154</td>\n",
       "      <td>-0.554361</td>\n",
       "      <td>...</td>\n",
       "      <td>-1.197377</td>\n",
       "      <td>-1.281772</td>\n",
       "      <td>-1.241584</td>\n",
       "      <td>-1.096906</td>\n",
       "      <td>-0.879888</td>\n",
       "      <td>-0.626701</td>\n",
       "      <td>-0.363466</td>\n",
       "      <td>-0.131378</td>\n",
       "      <td>0.066550</td>\n",
       "      <td>0.235342</td>\n",
       "    </tr>\n",
       "  </tbody>\n",
       "</table>\n",
       "<p>5 rows × 501 columns</p>\n",
       "</div>"
      ],
      "text/plain": [
       "      label       x_0       x_1       x_2       x_3       x_4       x_5  \\\n",
       "511      -1  0.439034  0.823023  1.119467  1.258154  1.214814  1.058791   \n",
       "275      -1  0.112156  0.390118  0.608617  0.747520  0.800584  0.781856   \n",
       "1294      1  1.021161  1.360950  1.602456  1.729890  1.740837  1.641004   \n",
       "443       1  0.849752  1.251072  1.572332  1.750827  1.758103  1.583214   \n",
       "328      -1  0.257445  0.355907  0.357916  0.247398  0.058512 -0.166141   \n",
       "\n",
       "           x_6       x_7       x_8  ...     x_490     x_491     x_492  \\\n",
       "511   0.793552  0.549117  0.368824  ... -0.430360  0.003470  0.530914   \n",
       "275   0.706942  0.605496  0.486882  ...  0.044109 -0.078095 -0.206073   \n",
       "1294  1.452173  1.189394  0.868109  ...  0.113534  0.455924  0.807531   \n",
       "443   1.231823  0.763440  0.247638  ... -0.378216 -0.006303  0.371912   \n",
       "328  -0.369495 -0.510154 -0.554361  ... -1.197377 -1.281772 -1.241584   \n",
       "\n",
       "         x_493     x_494     x_495     x_496     x_497     x_498     x_499  \n",
       "511   1.154138  1.752226  2.211626  2.462997  2.436993  2.107611  1.570199  \n",
       "275  -0.351219 -0.515093 -0.691453 -0.839720 -0.919316 -0.892784 -0.753881  \n",
       "1294  1.127531  1.383385  1.553615  1.619298  1.578237  1.424259  1.155361  \n",
       "443   0.712284  0.971246  1.122225  1.173250  1.154491  1.084825  0.973556  \n",
       "328  -1.096906 -0.879888 -0.626701 -0.363466 -0.131378  0.066550  0.235342  \n",
       "\n",
       "[5 rows x 501 columns]"
      ]
     },
     "execution_count": 15,
     "metadata": {},
     "output_type": "execute_result"
    }
   ],
   "source": [
    "df.sample(5)"
   ]
  },
  {
   "cell_type": "code",
   "execution_count": 16,
   "metadata": {},
   "outputs": [
    {
     "data": {
      "text/plain": [
       "-1    681\n",
       " 1    639\n",
       "Name: label, dtype: int64"
      ]
     },
     "execution_count": 16,
     "metadata": {},
     "output_type": "execute_result"
    }
   ],
   "source": [
    "df[\"label\"].value_counts()"
   ]
  },
  {
   "cell_type": "code",
   "execution_count": 29,
   "metadata": {},
   "outputs": [
    {
     "data": {
      "image/png": "[encoded data removed]",
      "text/plain": [
       "<Figure size 432x288 with 1 Axes>"
      ]
     },
     "metadata": {
      "needs_background": "light"
     },
     "output_type": "display_data"
    }
   ],
   "source": [
    "def plot_ts(x_series: np.array, y: int):\n",
    "    color = \"green\" if y > 0 else \"red\"\n",
    "    plt.Figure()\n",
    "    plt.plot(x_series, c=color)\n",
    "    plt.grid()\n",
    "    plt.show()\n",
    "\n",
    "index = random.randint(0, len(df))\n",
    "x = df.iloc[index,1:].values\n",
    "y = df[\"label\"][index]\n",
    "plot_ts(x,y)"
   ]
  },
  {
   "cell_type": "code",
   "execution_count": null,
   "metadata": {},
   "outputs": [],
   "source": []
  }
 ],
 "metadata": {
  "kernelspec": {
   "display_name": "Python 3",
   "language": "python",
   "name": "python3"
  },
  "language_info": {
   "codemirror_mode": {
    "name": "ipython",
    "version": 3
   },
   "file_extension": ".py",
   "mimetype": "text/x-python",
   "name": "python",
   "nbconvert_exporter": "python",
   "pygments_lexer": "ipython3",
   "version": "3.7.5"
  }
 },
 "nbformat": 4,
 "nbformat_minor": 4
}
